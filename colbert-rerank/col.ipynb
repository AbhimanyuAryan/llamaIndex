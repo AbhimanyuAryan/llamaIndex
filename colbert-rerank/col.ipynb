{
 "cells": [
  {
   "cell_type": "code",
   "execution_count": 1,
   "metadata": {},
   "outputs": [
    {
     "name": "stdout",
     "output_type": "stream",
     "text": [
      "Requirement already satisfied: llama-index in /Users/abhi/miniconda3/envs/RAG/lib/python3.11/site-packages (0.10.23)\n",
      "Requirement already satisfied: llama-index-agent-openai<0.2.0,>=0.1.4 in /Users/abhi/miniconda3/envs/RAG/lib/python3.11/site-packages (from llama-index) (0.1.7)\n",
      "Requirement already satisfied: llama-index-cli<0.2.0,>=0.1.2 in /Users/abhi/miniconda3/envs/RAG/lib/python3.11/site-packages (from llama-index) (0.1.11)\n",
      "Requirement already satisfied: llama-index-core<0.11.0,>=0.10.23 in /Users/abhi/miniconda3/envs/RAG/lib/python3.11/site-packages (from llama-index) (0.10.23.post1)\n",
      "Requirement already satisfied: llama-index-embeddings-openai<0.2.0,>=0.1.5 in /Users/abhi/miniconda3/envs/RAG/lib/python3.11/site-packages (from llama-index) (0.1.7)\n",
      "Requirement already satisfied: llama-index-indices-managed-llama-cloud<0.2.0,>=0.1.2 in /Users/abhi/miniconda3/envs/RAG/lib/python3.11/site-packages (from llama-index) (0.1.5)\n",
      "Requirement already satisfied: llama-index-legacy<0.10.0,>=0.9.48 in /Users/abhi/miniconda3/envs/RAG/lib/python3.11/site-packages (from llama-index) (0.9.48)\n",
      "Requirement already satisfied: llama-index-llms-openai<0.2.0,>=0.1.5 in /Users/abhi/miniconda3/envs/RAG/lib/python3.11/site-packages (from llama-index) (0.1.12)\n",
      "Requirement already satisfied: llama-index-multi-modal-llms-openai<0.2.0,>=0.1.3 in /Users/abhi/miniconda3/envs/RAG/lib/python3.11/site-packages (from llama-index) (0.1.4)\n",
      "Requirement already satisfied: llama-index-program-openai<0.2.0,>=0.1.3 in /Users/abhi/miniconda3/envs/RAG/lib/python3.11/site-packages (from llama-index) (0.1.4)\n",
      "Requirement already satisfied: llama-index-question-gen-openai<0.2.0,>=0.1.2 in /Users/abhi/miniconda3/envs/RAG/lib/python3.11/site-packages (from llama-index) (0.1.3)\n",
      "Requirement already satisfied: llama-index-readers-file<0.2.0,>=0.1.4 in /Users/abhi/miniconda3/envs/RAG/lib/python3.11/site-packages (from llama-index) (0.1.12)\n",
      "Requirement already satisfied: llama-index-readers-llama-parse<0.2.0,>=0.1.2 in /Users/abhi/miniconda3/envs/RAG/lib/python3.11/site-packages (from llama-index) (0.1.3)\n",
      "Requirement already satisfied: PyYAML>=6.0.1 in /Users/abhi/miniconda3/envs/RAG/lib/python3.11/site-packages (from llama-index-core<0.11.0,>=0.10.23->llama-index) (6.0.1)\n",
      "Requirement already satisfied: SQLAlchemy>=1.4.49 in /Users/abhi/miniconda3/envs/RAG/lib/python3.11/site-packages (from SQLAlchemy[asyncio]>=1.4.49->llama-index-core<0.11.0,>=0.10.23->llama-index) (2.0.29)\n",
      "Requirement already satisfied: aiohttp<4.0.0,>=3.8.6 in /Users/abhi/miniconda3/envs/RAG/lib/python3.11/site-packages (from llama-index-core<0.11.0,>=0.10.23->llama-index) (3.9.3)\n",
      "Requirement already satisfied: dataclasses-json in /Users/abhi/miniconda3/envs/RAG/lib/python3.11/site-packages (from llama-index-core<0.11.0,>=0.10.23->llama-index) (0.6.4)\n",
      "Requirement already satisfied: deprecated>=1.2.9.3 in /Users/abhi/miniconda3/envs/RAG/lib/python3.11/site-packages (from llama-index-core<0.11.0,>=0.10.23->llama-index) (1.2.14)\n",
      "Requirement already satisfied: dirtyjson<2.0.0,>=1.0.8 in /Users/abhi/miniconda3/envs/RAG/lib/python3.11/site-packages (from llama-index-core<0.11.0,>=0.10.23->llama-index) (1.0.8)\n",
      "Requirement already satisfied: fsspec>=2023.5.0 in /Users/abhi/miniconda3/envs/RAG/lib/python3.11/site-packages (from llama-index-core<0.11.0,>=0.10.23->llama-index) (2024.2.0)\n",
      "Requirement already satisfied: httpx in /Users/abhi/miniconda3/envs/RAG/lib/python3.11/site-packages (from llama-index-core<0.11.0,>=0.10.23->llama-index) (0.27.0)\n",
      "Requirement already satisfied: llamaindex-py-client<0.2.0,>=0.1.13 in /Users/abhi/miniconda3/envs/RAG/lib/python3.11/site-packages (from llama-index-core<0.11.0,>=0.10.23->llama-index) (0.1.13)\n",
      "Requirement already satisfied: nest-asyncio<2.0.0,>=1.5.8 in /Users/abhi/miniconda3/envs/RAG/lib/python3.11/site-packages (from llama-index-core<0.11.0,>=0.10.23->llama-index) (1.6.0)\n",
      "Requirement already satisfied: networkx>=3.0 in /Users/abhi/miniconda3/envs/RAG/lib/python3.11/site-packages (from llama-index-core<0.11.0,>=0.10.23->llama-index) (3.2.1)\n",
      "Requirement already satisfied: nltk<4.0.0,>=3.8.1 in /Users/abhi/miniconda3/envs/RAG/lib/python3.11/site-packages (from llama-index-core<0.11.0,>=0.10.23->llama-index) (3.8.1)\n",
      "Requirement already satisfied: numpy in /Users/abhi/miniconda3/envs/RAG/lib/python3.11/site-packages (from llama-index-core<0.11.0,>=0.10.23->llama-index) (1.26.4)\n",
      "Requirement already satisfied: openai>=1.1.0 in /Users/abhi/miniconda3/envs/RAG/lib/python3.11/site-packages (from llama-index-core<0.11.0,>=0.10.23->llama-index) (1.14.2)\n",
      "Requirement already satisfied: pandas in /Users/abhi/miniconda3/envs/RAG/lib/python3.11/site-packages (from llama-index-core<0.11.0,>=0.10.23->llama-index) (2.2.1)\n",
      "Requirement already satisfied: pillow>=9.0.0 in /Users/abhi/miniconda3/envs/RAG/lib/python3.11/site-packages (from llama-index-core<0.11.0,>=0.10.23->llama-index) (10.2.0)\n",
      "Requirement already satisfied: requests>=2.31.0 in /Users/abhi/miniconda3/envs/RAG/lib/python3.11/site-packages (from llama-index-core<0.11.0,>=0.10.23->llama-index) (2.31.0)\n",
      "Requirement already satisfied: tenacity<9.0.0,>=8.2.0 in /Users/abhi/miniconda3/envs/RAG/lib/python3.11/site-packages (from llama-index-core<0.11.0,>=0.10.23->llama-index) (8.2.3)\n",
      "Requirement already satisfied: tiktoken>=0.3.3 in /Users/abhi/miniconda3/envs/RAG/lib/python3.11/site-packages (from llama-index-core<0.11.0,>=0.10.23->llama-index) (0.6.0)\n",
      "Requirement already satisfied: tqdm<5.0.0,>=4.66.1 in /Users/abhi/miniconda3/envs/RAG/lib/python3.11/site-packages (from llama-index-core<0.11.0,>=0.10.23->llama-index) (4.66.2)\n",
      "Requirement already satisfied: typing-extensions>=4.5.0 in /Users/abhi/miniconda3/envs/RAG/lib/python3.11/site-packages (from llama-index-core<0.11.0,>=0.10.23->llama-index) (4.10.0)\n",
      "Requirement already satisfied: typing-inspect>=0.8.0 in /Users/abhi/miniconda3/envs/RAG/lib/python3.11/site-packages (from llama-index-core<0.11.0,>=0.10.23->llama-index) (0.9.0)\n",
      "Requirement already satisfied: beautifulsoup4<5.0.0,>=4.12.3 in /Users/abhi/miniconda3/envs/RAG/lib/python3.11/site-packages (from llama-index-readers-file<0.2.0,>=0.1.4->llama-index) (4.12.3)\n",
      "Requirement already satisfied: bs4<0.0.3,>=0.0.2 in /Users/abhi/miniconda3/envs/RAG/lib/python3.11/site-packages (from llama-index-readers-file<0.2.0,>=0.1.4->llama-index) (0.0.2)\n",
      "Requirement already satisfied: pymupdf<2.0.0,>=1.23.21 in /Users/abhi/miniconda3/envs/RAG/lib/python3.11/site-packages (from llama-index-readers-file<0.2.0,>=0.1.4->llama-index) (1.24.0)\n",
      "Requirement already satisfied: pypdf<5.0.0,>=4.0.1 in /Users/abhi/miniconda3/envs/RAG/lib/python3.11/site-packages (from llama-index-readers-file<0.2.0,>=0.1.4->llama-index) (4.1.0)\n",
      "Requirement already satisfied: striprtf<0.0.27,>=0.0.26 in /Users/abhi/miniconda3/envs/RAG/lib/python3.11/site-packages (from llama-index-readers-file<0.2.0,>=0.1.4->llama-index) (0.0.26)\n",
      "Requirement already satisfied: llama-parse<0.4.0,>=0.3.3 in /Users/abhi/miniconda3/envs/RAG/lib/python3.11/site-packages (from llama-index-readers-llama-parse<0.2.0,>=0.1.2->llama-index) (0.3.9)\n",
      "Requirement already satisfied: aiosignal>=1.1.2 in /Users/abhi/miniconda3/envs/RAG/lib/python3.11/site-packages (from aiohttp<4.0.0,>=3.8.6->llama-index-core<0.11.0,>=0.10.23->llama-index) (1.3.1)\n",
      "Requirement already satisfied: attrs>=17.3.0 in /Users/abhi/miniconda3/envs/RAG/lib/python3.11/site-packages (from aiohttp<4.0.0,>=3.8.6->llama-index-core<0.11.0,>=0.10.23->llama-index) (23.2.0)\n",
      "Requirement already satisfied: frozenlist>=1.1.1 in /Users/abhi/miniconda3/envs/RAG/lib/python3.11/site-packages (from aiohttp<4.0.0,>=3.8.6->llama-index-core<0.11.0,>=0.10.23->llama-index) (1.4.1)\n",
      "Requirement already satisfied: multidict<7.0,>=4.5 in /Users/abhi/miniconda3/envs/RAG/lib/python3.11/site-packages (from aiohttp<4.0.0,>=3.8.6->llama-index-core<0.11.0,>=0.10.23->llama-index) (6.0.5)\n",
      "Requirement already satisfied: yarl<2.0,>=1.0 in /Users/abhi/miniconda3/envs/RAG/lib/python3.11/site-packages (from aiohttp<4.0.0,>=3.8.6->llama-index-core<0.11.0,>=0.10.23->llama-index) (1.9.4)\n",
      "Requirement already satisfied: soupsieve>1.2 in /Users/abhi/miniconda3/envs/RAG/lib/python3.11/site-packages (from beautifulsoup4<5.0.0,>=4.12.3->llama-index-readers-file<0.2.0,>=0.1.4->llama-index) (2.5)\n",
      "Requirement already satisfied: wrapt<2,>=1.10 in /Users/abhi/miniconda3/envs/RAG/lib/python3.11/site-packages (from deprecated>=1.2.9.3->llama-index-core<0.11.0,>=0.10.23->llama-index) (1.16.0)\n",
      "Requirement already satisfied: pydantic>=1.10 in /Users/abhi/miniconda3/envs/RAG/lib/python3.11/site-packages (from llamaindex-py-client<0.2.0,>=0.1.13->llama-index-core<0.11.0,>=0.10.23->llama-index) (2.6.4)\n",
      "Requirement already satisfied: anyio in /Users/abhi/miniconda3/envs/RAG/lib/python3.11/site-packages (from httpx->llama-index-core<0.11.0,>=0.10.23->llama-index) (4.3.0)\n",
      "Requirement already satisfied: certifi in /Users/abhi/miniconda3/envs/RAG/lib/python3.11/site-packages (from httpx->llama-index-core<0.11.0,>=0.10.23->llama-index) (2024.2.2)\n",
      "Requirement already satisfied: httpcore==1.* in /Users/abhi/miniconda3/envs/RAG/lib/python3.11/site-packages (from httpx->llama-index-core<0.11.0,>=0.10.23->llama-index) (1.0.4)\n",
      "Requirement already satisfied: idna in /Users/abhi/miniconda3/envs/RAG/lib/python3.11/site-packages (from httpx->llama-index-core<0.11.0,>=0.10.23->llama-index) (3.6)\n",
      "Requirement already satisfied: sniffio in /Users/abhi/miniconda3/envs/RAG/lib/python3.11/site-packages (from httpx->llama-index-core<0.11.0,>=0.10.23->llama-index) (1.3.1)\n",
      "Requirement already satisfied: h11<0.15,>=0.13 in /Users/abhi/miniconda3/envs/RAG/lib/python3.11/site-packages (from httpcore==1.*->httpx->llama-index-core<0.11.0,>=0.10.23->llama-index) (0.14.0)\n",
      "Requirement already satisfied: click in /Users/abhi/miniconda3/envs/RAG/lib/python3.11/site-packages (from nltk<4.0.0,>=3.8.1->llama-index-core<0.11.0,>=0.10.23->llama-index) (8.1.7)\n",
      "Requirement already satisfied: joblib in /Users/abhi/miniconda3/envs/RAG/lib/python3.11/site-packages (from nltk<4.0.0,>=3.8.1->llama-index-core<0.11.0,>=0.10.23->llama-index) (1.3.2)\n",
      "Requirement already satisfied: regex>=2021.8.3 in /Users/abhi/miniconda3/envs/RAG/lib/python3.11/site-packages (from nltk<4.0.0,>=3.8.1->llama-index-core<0.11.0,>=0.10.23->llama-index) (2023.12.25)\n",
      "Requirement already satisfied: distro<2,>=1.7.0 in /Users/abhi/miniconda3/envs/RAG/lib/python3.11/site-packages (from openai>=1.1.0->llama-index-core<0.11.0,>=0.10.23->llama-index) (1.9.0)\n",
      "Requirement already satisfied: PyMuPDFb==1.24.0 in /Users/abhi/miniconda3/envs/RAG/lib/python3.11/site-packages (from pymupdf<2.0.0,>=1.23.21->llama-index-readers-file<0.2.0,>=0.1.4->llama-index) (1.24.0)\n",
      "Requirement already satisfied: charset-normalizer<4,>=2 in /Users/abhi/miniconda3/envs/RAG/lib/python3.11/site-packages (from requests>=2.31.0->llama-index-core<0.11.0,>=0.10.23->llama-index) (3.3.2)\n",
      "Requirement already satisfied: urllib3<3,>=1.21.1 in /Users/abhi/miniconda3/envs/RAG/lib/python3.11/site-packages (from requests>=2.31.0->llama-index-core<0.11.0,>=0.10.23->llama-index) (2.2.1)\n",
      "Requirement already satisfied: greenlet!=0.4.17 in /Users/abhi/miniconda3/envs/RAG/lib/python3.11/site-packages (from SQLAlchemy>=1.4.49->SQLAlchemy[asyncio]>=1.4.49->llama-index-core<0.11.0,>=0.10.23->llama-index) (3.0.3)\n",
      "Requirement already satisfied: mypy-extensions>=0.3.0 in /Users/abhi/miniconda3/envs/RAG/lib/python3.11/site-packages (from typing-inspect>=0.8.0->llama-index-core<0.11.0,>=0.10.23->llama-index) (1.0.0)\n",
      "Requirement already satisfied: marshmallow<4.0.0,>=3.18.0 in /Users/abhi/miniconda3/envs/RAG/lib/python3.11/site-packages (from dataclasses-json->llama-index-core<0.11.0,>=0.10.23->llama-index) (3.21.1)\n",
      "Requirement already satisfied: python-dateutil>=2.8.2 in /Users/abhi/miniconda3/envs/RAG/lib/python3.11/site-packages (from pandas->llama-index-core<0.11.0,>=0.10.23->llama-index) (2.9.0)\n",
      "Requirement already satisfied: pytz>=2020.1 in /Users/abhi/miniconda3/envs/RAG/lib/python3.11/site-packages (from pandas->llama-index-core<0.11.0,>=0.10.23->llama-index) (2024.1)\n",
      "Requirement already satisfied: tzdata>=2022.7 in /Users/abhi/miniconda3/envs/RAG/lib/python3.11/site-packages (from pandas->llama-index-core<0.11.0,>=0.10.23->llama-index) (2024.1)\n",
      "Requirement already satisfied: packaging>=17.0 in /Users/abhi/miniconda3/envs/RAG/lib/python3.11/site-packages (from marshmallow<4.0.0,>=3.18.0->dataclasses-json->llama-index-core<0.11.0,>=0.10.23->llama-index) (23.2)\n",
      "Requirement already satisfied: annotated-types>=0.4.0 in /Users/abhi/miniconda3/envs/RAG/lib/python3.11/site-packages (from pydantic>=1.10->llamaindex-py-client<0.2.0,>=0.1.13->llama-index-core<0.11.0,>=0.10.23->llama-index) (0.6.0)\n",
      "Requirement already satisfied: pydantic-core==2.16.3 in /Users/abhi/miniconda3/envs/RAG/lib/python3.11/site-packages (from pydantic>=1.10->llamaindex-py-client<0.2.0,>=0.1.13->llama-index-core<0.11.0,>=0.10.23->llama-index) (2.16.3)\n",
      "Requirement already satisfied: six>=1.5 in /Users/abhi/miniconda3/envs/RAG/lib/python3.11/site-packages (from python-dateutil>=2.8.2->pandas->llama-index-core<0.11.0,>=0.10.23->llama-index) (1.16.0)\n",
      "Requirement already satisfied: llama-index-core in /Users/abhi/miniconda3/envs/RAG/lib/python3.11/site-packages (0.10.23.post1)\n",
      "Requirement already satisfied: PyYAML>=6.0.1 in /Users/abhi/miniconda3/envs/RAG/lib/python3.11/site-packages (from llama-index-core) (6.0.1)\n",
      "Requirement already satisfied: SQLAlchemy>=1.4.49 in /Users/abhi/miniconda3/envs/RAG/lib/python3.11/site-packages (from SQLAlchemy[asyncio]>=1.4.49->llama-index-core) (2.0.29)\n",
      "Requirement already satisfied: aiohttp<4.0.0,>=3.8.6 in /Users/abhi/miniconda3/envs/RAG/lib/python3.11/site-packages (from llama-index-core) (3.9.3)\n",
      "Requirement already satisfied: dataclasses-json in /Users/abhi/miniconda3/envs/RAG/lib/python3.11/site-packages (from llama-index-core) (0.6.4)\n",
      "Requirement already satisfied: deprecated>=1.2.9.3 in /Users/abhi/miniconda3/envs/RAG/lib/python3.11/site-packages (from llama-index-core) (1.2.14)\n",
      "Requirement already satisfied: dirtyjson<2.0.0,>=1.0.8 in /Users/abhi/miniconda3/envs/RAG/lib/python3.11/site-packages (from llama-index-core) (1.0.8)\n",
      "Requirement already satisfied: fsspec>=2023.5.0 in /Users/abhi/miniconda3/envs/RAG/lib/python3.11/site-packages (from llama-index-core) (2024.2.0)\n",
      "Requirement already satisfied: httpx in /Users/abhi/miniconda3/envs/RAG/lib/python3.11/site-packages (from llama-index-core) (0.27.0)\n",
      "Requirement already satisfied: llamaindex-py-client<0.2.0,>=0.1.13 in /Users/abhi/miniconda3/envs/RAG/lib/python3.11/site-packages (from llama-index-core) (0.1.13)\n",
      "Requirement already satisfied: nest-asyncio<2.0.0,>=1.5.8 in /Users/abhi/miniconda3/envs/RAG/lib/python3.11/site-packages (from llama-index-core) (1.6.0)\n",
      "Requirement already satisfied: networkx>=3.0 in /Users/abhi/miniconda3/envs/RAG/lib/python3.11/site-packages (from llama-index-core) (3.2.1)\n",
      "Requirement already satisfied: nltk<4.0.0,>=3.8.1 in /Users/abhi/miniconda3/envs/RAG/lib/python3.11/site-packages (from llama-index-core) (3.8.1)\n",
      "Requirement already satisfied: numpy in /Users/abhi/miniconda3/envs/RAG/lib/python3.11/site-packages (from llama-index-core) (1.26.4)\n",
      "Requirement already satisfied: openai>=1.1.0 in /Users/abhi/miniconda3/envs/RAG/lib/python3.11/site-packages (from llama-index-core) (1.14.2)\n",
      "Requirement already satisfied: pandas in /Users/abhi/miniconda3/envs/RAG/lib/python3.11/site-packages (from llama-index-core) (2.2.1)\n",
      "Requirement already satisfied: pillow>=9.0.0 in /Users/abhi/miniconda3/envs/RAG/lib/python3.11/site-packages (from llama-index-core) (10.2.0)\n",
      "Requirement already satisfied: requests>=2.31.0 in /Users/abhi/miniconda3/envs/RAG/lib/python3.11/site-packages (from llama-index-core) (2.31.0)\n",
      "Requirement already satisfied: tenacity<9.0.0,>=8.2.0 in /Users/abhi/miniconda3/envs/RAG/lib/python3.11/site-packages (from llama-index-core) (8.2.3)\n",
      "Requirement already satisfied: tiktoken>=0.3.3 in /Users/abhi/miniconda3/envs/RAG/lib/python3.11/site-packages (from llama-index-core) (0.6.0)\n",
      "Requirement already satisfied: tqdm<5.0.0,>=4.66.1 in /Users/abhi/miniconda3/envs/RAG/lib/python3.11/site-packages (from llama-index-core) (4.66.2)\n",
      "Requirement already satisfied: typing-extensions>=4.5.0 in /Users/abhi/miniconda3/envs/RAG/lib/python3.11/site-packages (from llama-index-core) (4.10.0)\n",
      "Requirement already satisfied: typing-inspect>=0.8.0 in /Users/abhi/miniconda3/envs/RAG/lib/python3.11/site-packages (from llama-index-core) (0.9.0)\n",
      "Requirement already satisfied: aiosignal>=1.1.2 in /Users/abhi/miniconda3/envs/RAG/lib/python3.11/site-packages (from aiohttp<4.0.0,>=3.8.6->llama-index-core) (1.3.1)\n",
      "Requirement already satisfied: attrs>=17.3.0 in /Users/abhi/miniconda3/envs/RAG/lib/python3.11/site-packages (from aiohttp<4.0.0,>=3.8.6->llama-index-core) (23.2.0)\n",
      "Requirement already satisfied: frozenlist>=1.1.1 in /Users/abhi/miniconda3/envs/RAG/lib/python3.11/site-packages (from aiohttp<4.0.0,>=3.8.6->llama-index-core) (1.4.1)\n",
      "Requirement already satisfied: multidict<7.0,>=4.5 in /Users/abhi/miniconda3/envs/RAG/lib/python3.11/site-packages (from aiohttp<4.0.0,>=3.8.6->llama-index-core) (6.0.5)\n",
      "Requirement already satisfied: yarl<2.0,>=1.0 in /Users/abhi/miniconda3/envs/RAG/lib/python3.11/site-packages (from aiohttp<4.0.0,>=3.8.6->llama-index-core) (1.9.4)\n",
      "Requirement already satisfied: wrapt<2,>=1.10 in /Users/abhi/miniconda3/envs/RAG/lib/python3.11/site-packages (from deprecated>=1.2.9.3->llama-index-core) (1.16.0)\n",
      "Requirement already satisfied: pydantic>=1.10 in /Users/abhi/miniconda3/envs/RAG/lib/python3.11/site-packages (from llamaindex-py-client<0.2.0,>=0.1.13->llama-index-core) (2.6.4)\n",
      "Requirement already satisfied: anyio in /Users/abhi/miniconda3/envs/RAG/lib/python3.11/site-packages (from httpx->llama-index-core) (4.3.0)\n",
      "Requirement already satisfied: certifi in /Users/abhi/miniconda3/envs/RAG/lib/python3.11/site-packages (from httpx->llama-index-core) (2024.2.2)\n",
      "Requirement already satisfied: httpcore==1.* in /Users/abhi/miniconda3/envs/RAG/lib/python3.11/site-packages (from httpx->llama-index-core) (1.0.4)\n",
      "Requirement already satisfied: idna in /Users/abhi/miniconda3/envs/RAG/lib/python3.11/site-packages (from httpx->llama-index-core) (3.6)\n",
      "Requirement already satisfied: sniffio in /Users/abhi/miniconda3/envs/RAG/lib/python3.11/site-packages (from httpx->llama-index-core) (1.3.1)\n",
      "Requirement already satisfied: h11<0.15,>=0.13 in /Users/abhi/miniconda3/envs/RAG/lib/python3.11/site-packages (from httpcore==1.*->httpx->llama-index-core) (0.14.0)\n",
      "Requirement already satisfied: click in /Users/abhi/miniconda3/envs/RAG/lib/python3.11/site-packages (from nltk<4.0.0,>=3.8.1->llama-index-core) (8.1.7)\n",
      "Requirement already satisfied: joblib in /Users/abhi/miniconda3/envs/RAG/lib/python3.11/site-packages (from nltk<4.0.0,>=3.8.1->llama-index-core) (1.3.2)\n",
      "Requirement already satisfied: regex>=2021.8.3 in /Users/abhi/miniconda3/envs/RAG/lib/python3.11/site-packages (from nltk<4.0.0,>=3.8.1->llama-index-core) (2023.12.25)\n",
      "Requirement already satisfied: distro<2,>=1.7.0 in /Users/abhi/miniconda3/envs/RAG/lib/python3.11/site-packages (from openai>=1.1.0->llama-index-core) (1.9.0)\n",
      "Requirement already satisfied: charset-normalizer<4,>=2 in /Users/abhi/miniconda3/envs/RAG/lib/python3.11/site-packages (from requests>=2.31.0->llama-index-core) (3.3.2)\n",
      "Requirement already satisfied: urllib3<3,>=1.21.1 in /Users/abhi/miniconda3/envs/RAG/lib/python3.11/site-packages (from requests>=2.31.0->llama-index-core) (2.2.1)\n",
      "Requirement already satisfied: greenlet!=0.4.17 in /Users/abhi/miniconda3/envs/RAG/lib/python3.11/site-packages (from SQLAlchemy>=1.4.49->SQLAlchemy[asyncio]>=1.4.49->llama-index-core) (3.0.3)\n",
      "Requirement already satisfied: mypy-extensions>=0.3.0 in /Users/abhi/miniconda3/envs/RAG/lib/python3.11/site-packages (from typing-inspect>=0.8.0->llama-index-core) (1.0.0)\n",
      "Requirement already satisfied: marshmallow<4.0.0,>=3.18.0 in /Users/abhi/miniconda3/envs/RAG/lib/python3.11/site-packages (from dataclasses-json->llama-index-core) (3.21.1)\n",
      "Requirement already satisfied: python-dateutil>=2.8.2 in /Users/abhi/miniconda3/envs/RAG/lib/python3.11/site-packages (from pandas->llama-index-core) (2.9.0)\n",
      "Requirement already satisfied: pytz>=2020.1 in /Users/abhi/miniconda3/envs/RAG/lib/python3.11/site-packages (from pandas->llama-index-core) (2024.1)\n",
      "Requirement already satisfied: tzdata>=2022.7 in /Users/abhi/miniconda3/envs/RAG/lib/python3.11/site-packages (from pandas->llama-index-core) (2024.1)\n",
      "Requirement already satisfied: packaging>=17.0 in /Users/abhi/miniconda3/envs/RAG/lib/python3.11/site-packages (from marshmallow<4.0.0,>=3.18.0->dataclasses-json->llama-index-core) (23.2)\n",
      "Requirement already satisfied: annotated-types>=0.4.0 in /Users/abhi/miniconda3/envs/RAG/lib/python3.11/site-packages (from pydantic>=1.10->llamaindex-py-client<0.2.0,>=0.1.13->llama-index-core) (0.6.0)\n",
      "Requirement already satisfied: pydantic-core==2.16.3 in /Users/abhi/miniconda3/envs/RAG/lib/python3.11/site-packages (from pydantic>=1.10->llamaindex-py-client<0.2.0,>=0.1.13->llama-index-core) (2.16.3)\n",
      "Requirement already satisfied: six>=1.5 in /Users/abhi/miniconda3/envs/RAG/lib/python3.11/site-packages (from python-dateutil>=2.8.2->pandas->llama-index-core) (1.16.0)\n",
      "Requirement already satisfied: llama-index-embeddings-openai in /Users/abhi/miniconda3/envs/RAG/lib/python3.11/site-packages (0.1.7)\n",
      "Requirement already satisfied: llama-index-core<0.11.0,>=0.10.1 in /Users/abhi/miniconda3/envs/RAG/lib/python3.11/site-packages (from llama-index-embeddings-openai) (0.10.23.post1)\n",
      "Requirement already satisfied: PyYAML>=6.0.1 in /Users/abhi/miniconda3/envs/RAG/lib/python3.11/site-packages (from llama-index-core<0.11.0,>=0.10.1->llama-index-embeddings-openai) (6.0.1)\n",
      "Requirement already satisfied: SQLAlchemy>=1.4.49 in /Users/abhi/miniconda3/envs/RAG/lib/python3.11/site-packages (from SQLAlchemy[asyncio]>=1.4.49->llama-index-core<0.11.0,>=0.10.1->llama-index-embeddings-openai) (2.0.29)\n",
      "Requirement already satisfied: aiohttp<4.0.0,>=3.8.6 in /Users/abhi/miniconda3/envs/RAG/lib/python3.11/site-packages (from llama-index-core<0.11.0,>=0.10.1->llama-index-embeddings-openai) (3.9.3)\n",
      "Requirement already satisfied: dataclasses-json in /Users/abhi/miniconda3/envs/RAG/lib/python3.11/site-packages (from llama-index-core<0.11.0,>=0.10.1->llama-index-embeddings-openai) (0.6.4)\n",
      "Requirement already satisfied: deprecated>=1.2.9.3 in /Users/abhi/miniconda3/envs/RAG/lib/python3.11/site-packages (from llama-index-core<0.11.0,>=0.10.1->llama-index-embeddings-openai) (1.2.14)\n",
      "Requirement already satisfied: dirtyjson<2.0.0,>=1.0.8 in /Users/abhi/miniconda3/envs/RAG/lib/python3.11/site-packages (from llama-index-core<0.11.0,>=0.10.1->llama-index-embeddings-openai) (1.0.8)\n",
      "Requirement already satisfied: fsspec>=2023.5.0 in /Users/abhi/miniconda3/envs/RAG/lib/python3.11/site-packages (from llama-index-core<0.11.0,>=0.10.1->llama-index-embeddings-openai) (2024.2.0)\n",
      "Requirement already satisfied: httpx in /Users/abhi/miniconda3/envs/RAG/lib/python3.11/site-packages (from llama-index-core<0.11.0,>=0.10.1->llama-index-embeddings-openai) (0.27.0)\n",
      "Requirement already satisfied: llamaindex-py-client<0.2.0,>=0.1.13 in /Users/abhi/miniconda3/envs/RAG/lib/python3.11/site-packages (from llama-index-core<0.11.0,>=0.10.1->llama-index-embeddings-openai) (0.1.13)\n",
      "Requirement already satisfied: nest-asyncio<2.0.0,>=1.5.8 in /Users/abhi/miniconda3/envs/RAG/lib/python3.11/site-packages (from llama-index-core<0.11.0,>=0.10.1->llama-index-embeddings-openai) (1.6.0)\n",
      "Requirement already satisfied: networkx>=3.0 in /Users/abhi/miniconda3/envs/RAG/lib/python3.11/site-packages (from llama-index-core<0.11.0,>=0.10.1->llama-index-embeddings-openai) (3.2.1)\n",
      "Requirement already satisfied: nltk<4.0.0,>=3.8.1 in /Users/abhi/miniconda3/envs/RAG/lib/python3.11/site-packages (from llama-index-core<0.11.0,>=0.10.1->llama-index-embeddings-openai) (3.8.1)\n",
      "Requirement already satisfied: numpy in /Users/abhi/miniconda3/envs/RAG/lib/python3.11/site-packages (from llama-index-core<0.11.0,>=0.10.1->llama-index-embeddings-openai) (1.26.4)\n",
      "Requirement already satisfied: openai>=1.1.0 in /Users/abhi/miniconda3/envs/RAG/lib/python3.11/site-packages (from llama-index-core<0.11.0,>=0.10.1->llama-index-embeddings-openai) (1.14.2)\n",
      "Requirement already satisfied: pandas in /Users/abhi/miniconda3/envs/RAG/lib/python3.11/site-packages (from llama-index-core<0.11.0,>=0.10.1->llama-index-embeddings-openai) (2.2.1)\n",
      "Requirement already satisfied: pillow>=9.0.0 in /Users/abhi/miniconda3/envs/RAG/lib/python3.11/site-packages (from llama-index-core<0.11.0,>=0.10.1->llama-index-embeddings-openai) (10.2.0)\n",
      "Requirement already satisfied: requests>=2.31.0 in /Users/abhi/miniconda3/envs/RAG/lib/python3.11/site-packages (from llama-index-core<0.11.0,>=0.10.1->llama-index-embeddings-openai) (2.31.0)\n",
      "Requirement already satisfied: tenacity<9.0.0,>=8.2.0 in /Users/abhi/miniconda3/envs/RAG/lib/python3.11/site-packages (from llama-index-core<0.11.0,>=0.10.1->llama-index-embeddings-openai) (8.2.3)\n",
      "Requirement already satisfied: tiktoken>=0.3.3 in /Users/abhi/miniconda3/envs/RAG/lib/python3.11/site-packages (from llama-index-core<0.11.0,>=0.10.1->llama-index-embeddings-openai) (0.6.0)\n",
      "Requirement already satisfied: tqdm<5.0.0,>=4.66.1 in /Users/abhi/miniconda3/envs/RAG/lib/python3.11/site-packages (from llama-index-core<0.11.0,>=0.10.1->llama-index-embeddings-openai) (4.66.2)\n",
      "Requirement already satisfied: typing-extensions>=4.5.0 in /Users/abhi/miniconda3/envs/RAG/lib/python3.11/site-packages (from llama-index-core<0.11.0,>=0.10.1->llama-index-embeddings-openai) (4.10.0)\n",
      "Requirement already satisfied: typing-inspect>=0.8.0 in /Users/abhi/miniconda3/envs/RAG/lib/python3.11/site-packages (from llama-index-core<0.11.0,>=0.10.1->llama-index-embeddings-openai) (0.9.0)\n",
      "Requirement already satisfied: aiosignal>=1.1.2 in /Users/abhi/miniconda3/envs/RAG/lib/python3.11/site-packages (from aiohttp<4.0.0,>=3.8.6->llama-index-core<0.11.0,>=0.10.1->llama-index-embeddings-openai) (1.3.1)\n",
      "Requirement already satisfied: attrs>=17.3.0 in /Users/abhi/miniconda3/envs/RAG/lib/python3.11/site-packages (from aiohttp<4.0.0,>=3.8.6->llama-index-core<0.11.0,>=0.10.1->llama-index-embeddings-openai) (23.2.0)\n",
      "Requirement already satisfied: frozenlist>=1.1.1 in /Users/abhi/miniconda3/envs/RAG/lib/python3.11/site-packages (from aiohttp<4.0.0,>=3.8.6->llama-index-core<0.11.0,>=0.10.1->llama-index-embeddings-openai) (1.4.1)\n",
      "Requirement already satisfied: multidict<7.0,>=4.5 in /Users/abhi/miniconda3/envs/RAG/lib/python3.11/site-packages (from aiohttp<4.0.0,>=3.8.6->llama-index-core<0.11.0,>=0.10.1->llama-index-embeddings-openai) (6.0.5)\n",
      "Requirement already satisfied: yarl<2.0,>=1.0 in /Users/abhi/miniconda3/envs/RAG/lib/python3.11/site-packages (from aiohttp<4.0.0,>=3.8.6->llama-index-core<0.11.0,>=0.10.1->llama-index-embeddings-openai) (1.9.4)\n",
      "Requirement already satisfied: wrapt<2,>=1.10 in /Users/abhi/miniconda3/envs/RAG/lib/python3.11/site-packages (from deprecated>=1.2.9.3->llama-index-core<0.11.0,>=0.10.1->llama-index-embeddings-openai) (1.16.0)\n",
      "Requirement already satisfied: pydantic>=1.10 in /Users/abhi/miniconda3/envs/RAG/lib/python3.11/site-packages (from llamaindex-py-client<0.2.0,>=0.1.13->llama-index-core<0.11.0,>=0.10.1->llama-index-embeddings-openai) (2.6.4)\n",
      "Requirement already satisfied: anyio in /Users/abhi/miniconda3/envs/RAG/lib/python3.11/site-packages (from httpx->llama-index-core<0.11.0,>=0.10.1->llama-index-embeddings-openai) (4.3.0)\n",
      "Requirement already satisfied: certifi in /Users/abhi/miniconda3/envs/RAG/lib/python3.11/site-packages (from httpx->llama-index-core<0.11.0,>=0.10.1->llama-index-embeddings-openai) (2024.2.2)\n",
      "Requirement already satisfied: httpcore==1.* in /Users/abhi/miniconda3/envs/RAG/lib/python3.11/site-packages (from httpx->llama-index-core<0.11.0,>=0.10.1->llama-index-embeddings-openai) (1.0.4)\n",
      "Requirement already satisfied: idna in /Users/abhi/miniconda3/envs/RAG/lib/python3.11/site-packages (from httpx->llama-index-core<0.11.0,>=0.10.1->llama-index-embeddings-openai) (3.6)\n",
      "Requirement already satisfied: sniffio in /Users/abhi/miniconda3/envs/RAG/lib/python3.11/site-packages (from httpx->llama-index-core<0.11.0,>=0.10.1->llama-index-embeddings-openai) (1.3.1)\n",
      "Requirement already satisfied: h11<0.15,>=0.13 in /Users/abhi/miniconda3/envs/RAG/lib/python3.11/site-packages (from httpcore==1.*->httpx->llama-index-core<0.11.0,>=0.10.1->llama-index-embeddings-openai) (0.14.0)\n",
      "Requirement already satisfied: click in /Users/abhi/miniconda3/envs/RAG/lib/python3.11/site-packages (from nltk<4.0.0,>=3.8.1->llama-index-core<0.11.0,>=0.10.1->llama-index-embeddings-openai) (8.1.7)\n",
      "Requirement already satisfied: joblib in /Users/abhi/miniconda3/envs/RAG/lib/python3.11/site-packages (from nltk<4.0.0,>=3.8.1->llama-index-core<0.11.0,>=0.10.1->llama-index-embeddings-openai) (1.3.2)\n",
      "Requirement already satisfied: regex>=2021.8.3 in /Users/abhi/miniconda3/envs/RAG/lib/python3.11/site-packages (from nltk<4.0.0,>=3.8.1->llama-index-core<0.11.0,>=0.10.1->llama-index-embeddings-openai) (2023.12.25)\n",
      "Requirement already satisfied: distro<2,>=1.7.0 in /Users/abhi/miniconda3/envs/RAG/lib/python3.11/site-packages (from openai>=1.1.0->llama-index-core<0.11.0,>=0.10.1->llama-index-embeddings-openai) (1.9.0)\n",
      "Requirement already satisfied: charset-normalizer<4,>=2 in /Users/abhi/miniconda3/envs/RAG/lib/python3.11/site-packages (from requests>=2.31.0->llama-index-core<0.11.0,>=0.10.1->llama-index-embeddings-openai) (3.3.2)\n",
      "Requirement already satisfied: urllib3<3,>=1.21.1 in /Users/abhi/miniconda3/envs/RAG/lib/python3.11/site-packages (from requests>=2.31.0->llama-index-core<0.11.0,>=0.10.1->llama-index-embeddings-openai) (2.2.1)\n",
      "Requirement already satisfied: greenlet!=0.4.17 in /Users/abhi/miniconda3/envs/RAG/lib/python3.11/site-packages (from SQLAlchemy>=1.4.49->SQLAlchemy[asyncio]>=1.4.49->llama-index-core<0.11.0,>=0.10.1->llama-index-embeddings-openai) (3.0.3)\n",
      "Requirement already satisfied: mypy-extensions>=0.3.0 in /Users/abhi/miniconda3/envs/RAG/lib/python3.11/site-packages (from typing-inspect>=0.8.0->llama-index-core<0.11.0,>=0.10.1->llama-index-embeddings-openai) (1.0.0)\n",
      "Requirement already satisfied: marshmallow<4.0.0,>=3.18.0 in /Users/abhi/miniconda3/envs/RAG/lib/python3.11/site-packages (from dataclasses-json->llama-index-core<0.11.0,>=0.10.1->llama-index-embeddings-openai) (3.21.1)\n",
      "Requirement already satisfied: python-dateutil>=2.8.2 in /Users/abhi/miniconda3/envs/RAG/lib/python3.11/site-packages (from pandas->llama-index-core<0.11.0,>=0.10.1->llama-index-embeddings-openai) (2.9.0)\n",
      "Requirement already satisfied: pytz>=2020.1 in /Users/abhi/miniconda3/envs/RAG/lib/python3.11/site-packages (from pandas->llama-index-core<0.11.0,>=0.10.1->llama-index-embeddings-openai) (2024.1)\n",
      "Requirement already satisfied: tzdata>=2022.7 in /Users/abhi/miniconda3/envs/RAG/lib/python3.11/site-packages (from pandas->llama-index-core<0.11.0,>=0.10.1->llama-index-embeddings-openai) (2024.1)\n",
      "Requirement already satisfied: packaging>=17.0 in /Users/abhi/miniconda3/envs/RAG/lib/python3.11/site-packages (from marshmallow<4.0.0,>=3.18.0->dataclasses-json->llama-index-core<0.11.0,>=0.10.1->llama-index-embeddings-openai) (23.2)\n",
      "Requirement already satisfied: annotated-types>=0.4.0 in /Users/abhi/miniconda3/envs/RAG/lib/python3.11/site-packages (from pydantic>=1.10->llamaindex-py-client<0.2.0,>=0.1.13->llama-index-core<0.11.0,>=0.10.1->llama-index-embeddings-openai) (0.6.0)\n",
      "Requirement already satisfied: pydantic-core==2.16.3 in /Users/abhi/miniconda3/envs/RAG/lib/python3.11/site-packages (from pydantic>=1.10->llamaindex-py-client<0.2.0,>=0.1.13->llama-index-core<0.11.0,>=0.10.1->llama-index-embeddings-openai) (2.16.3)\n",
      "Requirement already satisfied: six>=1.5 in /Users/abhi/miniconda3/envs/RAG/lib/python3.11/site-packages (from python-dateutil>=2.8.2->pandas->llama-index-core<0.11.0,>=0.10.1->llama-index-embeddings-openai) (1.16.0)\n",
      "Requirement already satisfied: llama-index-llms-openai in /Users/abhi/miniconda3/envs/RAG/lib/python3.11/site-packages (0.1.12)\n",
      "Requirement already satisfied: llama-index-core<0.11.0,>=0.10.20.post1 in /Users/abhi/miniconda3/envs/RAG/lib/python3.11/site-packages (from llama-index-llms-openai) (0.10.23.post1)\n",
      "Requirement already satisfied: PyYAML>=6.0.1 in /Users/abhi/miniconda3/envs/RAG/lib/python3.11/site-packages (from llama-index-core<0.11.0,>=0.10.20.post1->llama-index-llms-openai) (6.0.1)\n",
      "Requirement already satisfied: SQLAlchemy>=1.4.49 in /Users/abhi/miniconda3/envs/RAG/lib/python3.11/site-packages (from SQLAlchemy[asyncio]>=1.4.49->llama-index-core<0.11.0,>=0.10.20.post1->llama-index-llms-openai) (2.0.29)\n",
      "Requirement already satisfied: aiohttp<4.0.0,>=3.8.6 in /Users/abhi/miniconda3/envs/RAG/lib/python3.11/site-packages (from llama-index-core<0.11.0,>=0.10.20.post1->llama-index-llms-openai) (3.9.3)\n",
      "Requirement already satisfied: dataclasses-json in /Users/abhi/miniconda3/envs/RAG/lib/python3.11/site-packages (from llama-index-core<0.11.0,>=0.10.20.post1->llama-index-llms-openai) (0.6.4)\n",
      "Requirement already satisfied: deprecated>=1.2.9.3 in /Users/abhi/miniconda3/envs/RAG/lib/python3.11/site-packages (from llama-index-core<0.11.0,>=0.10.20.post1->llama-index-llms-openai) (1.2.14)\n",
      "Requirement already satisfied: dirtyjson<2.0.0,>=1.0.8 in /Users/abhi/miniconda3/envs/RAG/lib/python3.11/site-packages (from llama-index-core<0.11.0,>=0.10.20.post1->llama-index-llms-openai) (1.0.8)\n",
      "Requirement already satisfied: fsspec>=2023.5.0 in /Users/abhi/miniconda3/envs/RAG/lib/python3.11/site-packages (from llama-index-core<0.11.0,>=0.10.20.post1->llama-index-llms-openai) (2024.2.0)\n",
      "Requirement already satisfied: httpx in /Users/abhi/miniconda3/envs/RAG/lib/python3.11/site-packages (from llama-index-core<0.11.0,>=0.10.20.post1->llama-index-llms-openai) (0.27.0)\n",
      "Requirement already satisfied: llamaindex-py-client<0.2.0,>=0.1.13 in /Users/abhi/miniconda3/envs/RAG/lib/python3.11/site-packages (from llama-index-core<0.11.0,>=0.10.20.post1->llama-index-llms-openai) (0.1.13)\n",
      "Requirement already satisfied: nest-asyncio<2.0.0,>=1.5.8 in /Users/abhi/miniconda3/envs/RAG/lib/python3.11/site-packages (from llama-index-core<0.11.0,>=0.10.20.post1->llama-index-llms-openai) (1.6.0)\n",
      "Requirement already satisfied: networkx>=3.0 in /Users/abhi/miniconda3/envs/RAG/lib/python3.11/site-packages (from llama-index-core<0.11.0,>=0.10.20.post1->llama-index-llms-openai) (3.2.1)\n",
      "Requirement already satisfied: nltk<4.0.0,>=3.8.1 in /Users/abhi/miniconda3/envs/RAG/lib/python3.11/site-packages (from llama-index-core<0.11.0,>=0.10.20.post1->llama-index-llms-openai) (3.8.1)\n",
      "Requirement already satisfied: numpy in /Users/abhi/miniconda3/envs/RAG/lib/python3.11/site-packages (from llama-index-core<0.11.0,>=0.10.20.post1->llama-index-llms-openai) (1.26.4)\n",
      "Requirement already satisfied: openai>=1.1.0 in /Users/abhi/miniconda3/envs/RAG/lib/python3.11/site-packages (from llama-index-core<0.11.0,>=0.10.20.post1->llama-index-llms-openai) (1.14.2)\n",
      "Requirement already satisfied: pandas in /Users/abhi/miniconda3/envs/RAG/lib/python3.11/site-packages (from llama-index-core<0.11.0,>=0.10.20.post1->llama-index-llms-openai) (2.2.1)\n",
      "Requirement already satisfied: pillow>=9.0.0 in /Users/abhi/miniconda3/envs/RAG/lib/python3.11/site-packages (from llama-index-core<0.11.0,>=0.10.20.post1->llama-index-llms-openai) (10.2.0)\n",
      "Requirement already satisfied: requests>=2.31.0 in /Users/abhi/miniconda3/envs/RAG/lib/python3.11/site-packages (from llama-index-core<0.11.0,>=0.10.20.post1->llama-index-llms-openai) (2.31.0)\n",
      "Requirement already satisfied: tenacity<9.0.0,>=8.2.0 in /Users/abhi/miniconda3/envs/RAG/lib/python3.11/site-packages (from llama-index-core<0.11.0,>=0.10.20.post1->llama-index-llms-openai) (8.2.3)\n",
      "Requirement already satisfied: tiktoken>=0.3.3 in /Users/abhi/miniconda3/envs/RAG/lib/python3.11/site-packages (from llama-index-core<0.11.0,>=0.10.20.post1->llama-index-llms-openai) (0.6.0)\n",
      "Requirement already satisfied: tqdm<5.0.0,>=4.66.1 in /Users/abhi/miniconda3/envs/RAG/lib/python3.11/site-packages (from llama-index-core<0.11.0,>=0.10.20.post1->llama-index-llms-openai) (4.66.2)\n",
      "Requirement already satisfied: typing-extensions>=4.5.0 in /Users/abhi/miniconda3/envs/RAG/lib/python3.11/site-packages (from llama-index-core<0.11.0,>=0.10.20.post1->llama-index-llms-openai) (4.10.0)\n",
      "Requirement already satisfied: typing-inspect>=0.8.0 in /Users/abhi/miniconda3/envs/RAG/lib/python3.11/site-packages (from llama-index-core<0.11.0,>=0.10.20.post1->llama-index-llms-openai) (0.9.0)\n",
      "Requirement already satisfied: aiosignal>=1.1.2 in /Users/abhi/miniconda3/envs/RAG/lib/python3.11/site-packages (from aiohttp<4.0.0,>=3.8.6->llama-index-core<0.11.0,>=0.10.20.post1->llama-index-llms-openai) (1.3.1)\n",
      "Requirement already satisfied: attrs>=17.3.0 in /Users/abhi/miniconda3/envs/RAG/lib/python3.11/site-packages (from aiohttp<4.0.0,>=3.8.6->llama-index-core<0.11.0,>=0.10.20.post1->llama-index-llms-openai) (23.2.0)\n",
      "Requirement already satisfied: frozenlist>=1.1.1 in /Users/abhi/miniconda3/envs/RAG/lib/python3.11/site-packages (from aiohttp<4.0.0,>=3.8.6->llama-index-core<0.11.0,>=0.10.20.post1->llama-index-llms-openai) (1.4.1)\n",
      "Requirement already satisfied: multidict<7.0,>=4.5 in /Users/abhi/miniconda3/envs/RAG/lib/python3.11/site-packages (from aiohttp<4.0.0,>=3.8.6->llama-index-core<0.11.0,>=0.10.20.post1->llama-index-llms-openai) (6.0.5)\n",
      "Requirement already satisfied: yarl<2.0,>=1.0 in /Users/abhi/miniconda3/envs/RAG/lib/python3.11/site-packages (from aiohttp<4.0.0,>=3.8.6->llama-index-core<0.11.0,>=0.10.20.post1->llama-index-llms-openai) (1.9.4)\n",
      "Requirement already satisfied: wrapt<2,>=1.10 in /Users/abhi/miniconda3/envs/RAG/lib/python3.11/site-packages (from deprecated>=1.2.9.3->llama-index-core<0.11.0,>=0.10.20.post1->llama-index-llms-openai) (1.16.0)\n",
      "Requirement already satisfied: pydantic>=1.10 in /Users/abhi/miniconda3/envs/RAG/lib/python3.11/site-packages (from llamaindex-py-client<0.2.0,>=0.1.13->llama-index-core<0.11.0,>=0.10.20.post1->llama-index-llms-openai) (2.6.4)\n",
      "Requirement already satisfied: anyio in /Users/abhi/miniconda3/envs/RAG/lib/python3.11/site-packages (from httpx->llama-index-core<0.11.0,>=0.10.20.post1->llama-index-llms-openai) (4.3.0)\n",
      "Requirement already satisfied: certifi in /Users/abhi/miniconda3/envs/RAG/lib/python3.11/site-packages (from httpx->llama-index-core<0.11.0,>=0.10.20.post1->llama-index-llms-openai) (2024.2.2)\n",
      "Requirement already satisfied: httpcore==1.* in /Users/abhi/miniconda3/envs/RAG/lib/python3.11/site-packages (from httpx->llama-index-core<0.11.0,>=0.10.20.post1->llama-index-llms-openai) (1.0.4)\n",
      "Requirement already satisfied: idna in /Users/abhi/miniconda3/envs/RAG/lib/python3.11/site-packages (from httpx->llama-index-core<0.11.0,>=0.10.20.post1->llama-index-llms-openai) (3.6)\n",
      "Requirement already satisfied: sniffio in /Users/abhi/miniconda3/envs/RAG/lib/python3.11/site-packages (from httpx->llama-index-core<0.11.0,>=0.10.20.post1->llama-index-llms-openai) (1.3.1)\n",
      "Requirement already satisfied: h11<0.15,>=0.13 in /Users/abhi/miniconda3/envs/RAG/lib/python3.11/site-packages (from httpcore==1.*->httpx->llama-index-core<0.11.0,>=0.10.20.post1->llama-index-llms-openai) (0.14.0)\n",
      "Requirement already satisfied: click in /Users/abhi/miniconda3/envs/RAG/lib/python3.11/site-packages (from nltk<4.0.0,>=3.8.1->llama-index-core<0.11.0,>=0.10.20.post1->llama-index-llms-openai) (8.1.7)\n",
      "Requirement already satisfied: joblib in /Users/abhi/miniconda3/envs/RAG/lib/python3.11/site-packages (from nltk<4.0.0,>=3.8.1->llama-index-core<0.11.0,>=0.10.20.post1->llama-index-llms-openai) (1.3.2)\n",
      "Requirement already satisfied: regex>=2021.8.3 in /Users/abhi/miniconda3/envs/RAG/lib/python3.11/site-packages (from nltk<4.0.0,>=3.8.1->llama-index-core<0.11.0,>=0.10.20.post1->llama-index-llms-openai) (2023.12.25)\n",
      "Requirement already satisfied: distro<2,>=1.7.0 in /Users/abhi/miniconda3/envs/RAG/lib/python3.11/site-packages (from openai>=1.1.0->llama-index-core<0.11.0,>=0.10.20.post1->llama-index-llms-openai) (1.9.0)\n",
      "Requirement already satisfied: charset-normalizer<4,>=2 in /Users/abhi/miniconda3/envs/RAG/lib/python3.11/site-packages (from requests>=2.31.0->llama-index-core<0.11.0,>=0.10.20.post1->llama-index-llms-openai) (3.3.2)\n",
      "Requirement already satisfied: urllib3<3,>=1.21.1 in /Users/abhi/miniconda3/envs/RAG/lib/python3.11/site-packages (from requests>=2.31.0->llama-index-core<0.11.0,>=0.10.20.post1->llama-index-llms-openai) (2.2.1)\n",
      "Requirement already satisfied: greenlet!=0.4.17 in /Users/abhi/miniconda3/envs/RAG/lib/python3.11/site-packages (from SQLAlchemy>=1.4.49->SQLAlchemy[asyncio]>=1.4.49->llama-index-core<0.11.0,>=0.10.20.post1->llama-index-llms-openai) (3.0.3)\n",
      "Requirement already satisfied: mypy-extensions>=0.3.0 in /Users/abhi/miniconda3/envs/RAG/lib/python3.11/site-packages (from typing-inspect>=0.8.0->llama-index-core<0.11.0,>=0.10.20.post1->llama-index-llms-openai) (1.0.0)\n",
      "Requirement already satisfied: marshmallow<4.0.0,>=3.18.0 in /Users/abhi/miniconda3/envs/RAG/lib/python3.11/site-packages (from dataclasses-json->llama-index-core<0.11.0,>=0.10.20.post1->llama-index-llms-openai) (3.21.1)\n",
      "Requirement already satisfied: python-dateutil>=2.8.2 in /Users/abhi/miniconda3/envs/RAG/lib/python3.11/site-packages (from pandas->llama-index-core<0.11.0,>=0.10.20.post1->llama-index-llms-openai) (2.9.0)\n",
      "Requirement already satisfied: pytz>=2020.1 in /Users/abhi/miniconda3/envs/RAG/lib/python3.11/site-packages (from pandas->llama-index-core<0.11.0,>=0.10.20.post1->llama-index-llms-openai) (2024.1)\n",
      "Requirement already satisfied: tzdata>=2022.7 in /Users/abhi/miniconda3/envs/RAG/lib/python3.11/site-packages (from pandas->llama-index-core<0.11.0,>=0.10.20.post1->llama-index-llms-openai) (2024.1)\n",
      "Requirement already satisfied: packaging>=17.0 in /Users/abhi/miniconda3/envs/RAG/lib/python3.11/site-packages (from marshmallow<4.0.0,>=3.18.0->dataclasses-json->llama-index-core<0.11.0,>=0.10.20.post1->llama-index-llms-openai) (23.2)\n",
      "Requirement already satisfied: annotated-types>=0.4.0 in /Users/abhi/miniconda3/envs/RAG/lib/python3.11/site-packages (from pydantic>=1.10->llamaindex-py-client<0.2.0,>=0.1.13->llama-index-core<0.11.0,>=0.10.20.post1->llama-index-llms-openai) (0.6.0)\n",
      "Requirement already satisfied: pydantic-core==2.16.3 in /Users/abhi/miniconda3/envs/RAG/lib/python3.11/site-packages (from pydantic>=1.10->llamaindex-py-client<0.2.0,>=0.1.13->llama-index-core<0.11.0,>=0.10.20.post1->llama-index-llms-openai) (2.16.3)\n",
      "Requirement already satisfied: six>=1.5 in /Users/abhi/miniconda3/envs/RAG/lib/python3.11/site-packages (from python-dateutil>=2.8.2->pandas->llama-index-core<0.11.0,>=0.10.20.post1->llama-index-llms-openai) (1.16.0)\n",
      "Collecting llama-index-postprocessor-colbert-rerank\n",
      "  Downloading llama_index_postprocessor_colbert_rerank-0.1.1-py3-none-any.whl.metadata (1.1 kB)\n",
      "Requirement already satisfied: llama-index-core<0.11.0,>=0.10.0 in /Users/abhi/miniconda3/envs/RAG/lib/python3.11/site-packages (from llama-index-postprocessor-colbert-rerank) (0.10.23.post1)\n",
      "Requirement already satisfied: torch<3.0.0,>=2.2.0 in /Users/abhi/miniconda3/envs/RAG/lib/python3.11/site-packages (from llama-index-postprocessor-colbert-rerank) (2.2.1)\n",
      "Requirement already satisfied: transformers<5.0.0,>=4.37.2 in /Users/abhi/miniconda3/envs/RAG/lib/python3.11/site-packages (from llama-index-postprocessor-colbert-rerank) (4.38.2)\n",
      "Requirement already satisfied: PyYAML>=6.0.1 in /Users/abhi/miniconda3/envs/RAG/lib/python3.11/site-packages (from llama-index-core<0.11.0,>=0.10.0->llama-index-postprocessor-colbert-rerank) (6.0.1)\n",
      "Requirement already satisfied: SQLAlchemy>=1.4.49 in /Users/abhi/miniconda3/envs/RAG/lib/python3.11/site-packages (from SQLAlchemy[asyncio]>=1.4.49->llama-index-core<0.11.0,>=0.10.0->llama-index-postprocessor-colbert-rerank) (2.0.29)\n",
      "Requirement already satisfied: aiohttp<4.0.0,>=3.8.6 in /Users/abhi/miniconda3/envs/RAG/lib/python3.11/site-packages (from llama-index-core<0.11.0,>=0.10.0->llama-index-postprocessor-colbert-rerank) (3.9.3)\n",
      "Requirement already satisfied: dataclasses-json in /Users/abhi/miniconda3/envs/RAG/lib/python3.11/site-packages (from llama-index-core<0.11.0,>=0.10.0->llama-index-postprocessor-colbert-rerank) (0.6.4)\n",
      "Requirement already satisfied: deprecated>=1.2.9.3 in /Users/abhi/miniconda3/envs/RAG/lib/python3.11/site-packages (from llama-index-core<0.11.0,>=0.10.0->llama-index-postprocessor-colbert-rerank) (1.2.14)\n",
      "Requirement already satisfied: dirtyjson<2.0.0,>=1.0.8 in /Users/abhi/miniconda3/envs/RAG/lib/python3.11/site-packages (from llama-index-core<0.11.0,>=0.10.0->llama-index-postprocessor-colbert-rerank) (1.0.8)\n",
      "Requirement already satisfied: fsspec>=2023.5.0 in /Users/abhi/miniconda3/envs/RAG/lib/python3.11/site-packages (from llama-index-core<0.11.0,>=0.10.0->llama-index-postprocessor-colbert-rerank) (2024.2.0)\n",
      "Requirement already satisfied: httpx in /Users/abhi/miniconda3/envs/RAG/lib/python3.11/site-packages (from llama-index-core<0.11.0,>=0.10.0->llama-index-postprocessor-colbert-rerank) (0.27.0)\n",
      "Requirement already satisfied: llamaindex-py-client<0.2.0,>=0.1.13 in /Users/abhi/miniconda3/envs/RAG/lib/python3.11/site-packages (from llama-index-core<0.11.0,>=0.10.0->llama-index-postprocessor-colbert-rerank) (0.1.13)\n",
      "Requirement already satisfied: nest-asyncio<2.0.0,>=1.5.8 in /Users/abhi/miniconda3/envs/RAG/lib/python3.11/site-packages (from llama-index-core<0.11.0,>=0.10.0->llama-index-postprocessor-colbert-rerank) (1.6.0)\n",
      "Requirement already satisfied: networkx>=3.0 in /Users/abhi/miniconda3/envs/RAG/lib/python3.11/site-packages (from llama-index-core<0.11.0,>=0.10.0->llama-index-postprocessor-colbert-rerank) (3.2.1)\n",
      "Requirement already satisfied: nltk<4.0.0,>=3.8.1 in /Users/abhi/miniconda3/envs/RAG/lib/python3.11/site-packages (from llama-index-core<0.11.0,>=0.10.0->llama-index-postprocessor-colbert-rerank) (3.8.1)\n",
      "Requirement already satisfied: numpy in /Users/abhi/miniconda3/envs/RAG/lib/python3.11/site-packages (from llama-index-core<0.11.0,>=0.10.0->llama-index-postprocessor-colbert-rerank) (1.26.4)\n",
      "Requirement already satisfied: openai>=1.1.0 in /Users/abhi/miniconda3/envs/RAG/lib/python3.11/site-packages (from llama-index-core<0.11.0,>=0.10.0->llama-index-postprocessor-colbert-rerank) (1.14.2)\n",
      "Requirement already satisfied: pandas in /Users/abhi/miniconda3/envs/RAG/lib/python3.11/site-packages (from llama-index-core<0.11.0,>=0.10.0->llama-index-postprocessor-colbert-rerank) (2.2.1)\n",
      "Requirement already satisfied: pillow>=9.0.0 in /Users/abhi/miniconda3/envs/RAG/lib/python3.11/site-packages (from llama-index-core<0.11.0,>=0.10.0->llama-index-postprocessor-colbert-rerank) (10.2.0)\n",
      "Requirement already satisfied: requests>=2.31.0 in /Users/abhi/miniconda3/envs/RAG/lib/python3.11/site-packages (from llama-index-core<0.11.0,>=0.10.0->llama-index-postprocessor-colbert-rerank) (2.31.0)\n",
      "Requirement already satisfied: tenacity<9.0.0,>=8.2.0 in /Users/abhi/miniconda3/envs/RAG/lib/python3.11/site-packages (from llama-index-core<0.11.0,>=0.10.0->llama-index-postprocessor-colbert-rerank) (8.2.3)\n",
      "Requirement already satisfied: tiktoken>=0.3.3 in /Users/abhi/miniconda3/envs/RAG/lib/python3.11/site-packages (from llama-index-core<0.11.0,>=0.10.0->llama-index-postprocessor-colbert-rerank) (0.6.0)\n",
      "Requirement already satisfied: tqdm<5.0.0,>=4.66.1 in /Users/abhi/miniconda3/envs/RAG/lib/python3.11/site-packages (from llama-index-core<0.11.0,>=0.10.0->llama-index-postprocessor-colbert-rerank) (4.66.2)\n",
      "Requirement already satisfied: typing-extensions>=4.5.0 in /Users/abhi/miniconda3/envs/RAG/lib/python3.11/site-packages (from llama-index-core<0.11.0,>=0.10.0->llama-index-postprocessor-colbert-rerank) (4.10.0)\n",
      "Requirement already satisfied: typing-inspect>=0.8.0 in /Users/abhi/miniconda3/envs/RAG/lib/python3.11/site-packages (from llama-index-core<0.11.0,>=0.10.0->llama-index-postprocessor-colbert-rerank) (0.9.0)\n",
      "Requirement already satisfied: filelock in /Users/abhi/miniconda3/envs/RAG/lib/python3.11/site-packages (from torch<3.0.0,>=2.2.0->llama-index-postprocessor-colbert-rerank) (3.13.1)\n",
      "Requirement already satisfied: sympy in /Users/abhi/miniconda3/envs/RAG/lib/python3.11/site-packages (from torch<3.0.0,>=2.2.0->llama-index-postprocessor-colbert-rerank) (1.12)\n",
      "Requirement already satisfied: jinja2 in /Users/abhi/miniconda3/envs/RAG/lib/python3.11/site-packages (from torch<3.0.0,>=2.2.0->llama-index-postprocessor-colbert-rerank) (3.1.3)\n",
      "Requirement already satisfied: huggingface-hub<1.0,>=0.19.3 in /Users/abhi/miniconda3/envs/RAG/lib/python3.11/site-packages (from transformers<5.0.0,>=4.37.2->llama-index-postprocessor-colbert-rerank) (0.21.4)\n",
      "Requirement already satisfied: packaging>=20.0 in /Users/abhi/miniconda3/envs/RAG/lib/python3.11/site-packages (from transformers<5.0.0,>=4.37.2->llama-index-postprocessor-colbert-rerank) (23.2)\n",
      "Requirement already satisfied: regex!=2019.12.17 in /Users/abhi/miniconda3/envs/RAG/lib/python3.11/site-packages (from transformers<5.0.0,>=4.37.2->llama-index-postprocessor-colbert-rerank) (2023.12.25)\n",
      "Requirement already satisfied: tokenizers<0.19,>=0.14 in /Users/abhi/miniconda3/envs/RAG/lib/python3.11/site-packages (from transformers<5.0.0,>=4.37.2->llama-index-postprocessor-colbert-rerank) (0.15.2)\n",
      "Requirement already satisfied: safetensors>=0.4.1 in /Users/abhi/miniconda3/envs/RAG/lib/python3.11/site-packages (from transformers<5.0.0,>=4.37.2->llama-index-postprocessor-colbert-rerank) (0.4.2)\n",
      "Requirement already satisfied: aiosignal>=1.1.2 in /Users/abhi/miniconda3/envs/RAG/lib/python3.11/site-packages (from aiohttp<4.0.0,>=3.8.6->llama-index-core<0.11.0,>=0.10.0->llama-index-postprocessor-colbert-rerank) (1.3.1)\n",
      "Requirement already satisfied: attrs>=17.3.0 in /Users/abhi/miniconda3/envs/RAG/lib/python3.11/site-packages (from aiohttp<4.0.0,>=3.8.6->llama-index-core<0.11.0,>=0.10.0->llama-index-postprocessor-colbert-rerank) (23.2.0)\n",
      "Requirement already satisfied: frozenlist>=1.1.1 in /Users/abhi/miniconda3/envs/RAG/lib/python3.11/site-packages (from aiohttp<4.0.0,>=3.8.6->llama-index-core<0.11.0,>=0.10.0->llama-index-postprocessor-colbert-rerank) (1.4.1)\n",
      "Requirement already satisfied: multidict<7.0,>=4.5 in /Users/abhi/miniconda3/envs/RAG/lib/python3.11/site-packages (from aiohttp<4.0.0,>=3.8.6->llama-index-core<0.11.0,>=0.10.0->llama-index-postprocessor-colbert-rerank) (6.0.5)\n",
      "Requirement already satisfied: yarl<2.0,>=1.0 in /Users/abhi/miniconda3/envs/RAG/lib/python3.11/site-packages (from aiohttp<4.0.0,>=3.8.6->llama-index-core<0.11.0,>=0.10.0->llama-index-postprocessor-colbert-rerank) (1.9.4)\n",
      "Requirement already satisfied: wrapt<2,>=1.10 in /Users/abhi/miniconda3/envs/RAG/lib/python3.11/site-packages (from deprecated>=1.2.9.3->llama-index-core<0.11.0,>=0.10.0->llama-index-postprocessor-colbert-rerank) (1.16.0)\n",
      "Requirement already satisfied: pydantic>=1.10 in /Users/abhi/miniconda3/envs/RAG/lib/python3.11/site-packages (from llamaindex-py-client<0.2.0,>=0.1.13->llama-index-core<0.11.0,>=0.10.0->llama-index-postprocessor-colbert-rerank) (2.6.4)\n",
      "Requirement already satisfied: anyio in /Users/abhi/miniconda3/envs/RAG/lib/python3.11/site-packages (from httpx->llama-index-core<0.11.0,>=0.10.0->llama-index-postprocessor-colbert-rerank) (4.3.0)\n",
      "Requirement already satisfied: certifi in /Users/abhi/miniconda3/envs/RAG/lib/python3.11/site-packages (from httpx->llama-index-core<0.11.0,>=0.10.0->llama-index-postprocessor-colbert-rerank) (2024.2.2)\n",
      "Requirement already satisfied: httpcore==1.* in /Users/abhi/miniconda3/envs/RAG/lib/python3.11/site-packages (from httpx->llama-index-core<0.11.0,>=0.10.0->llama-index-postprocessor-colbert-rerank) (1.0.4)\n",
      "Requirement already satisfied: idna in /Users/abhi/miniconda3/envs/RAG/lib/python3.11/site-packages (from httpx->llama-index-core<0.11.0,>=0.10.0->llama-index-postprocessor-colbert-rerank) (3.6)\n",
      "Requirement already satisfied: sniffio in /Users/abhi/miniconda3/envs/RAG/lib/python3.11/site-packages (from httpx->llama-index-core<0.11.0,>=0.10.0->llama-index-postprocessor-colbert-rerank) (1.3.1)\n",
      "Requirement already satisfied: h11<0.15,>=0.13 in /Users/abhi/miniconda3/envs/RAG/lib/python3.11/site-packages (from httpcore==1.*->httpx->llama-index-core<0.11.0,>=0.10.0->llama-index-postprocessor-colbert-rerank) (0.14.0)\n",
      "Requirement already satisfied: click in /Users/abhi/miniconda3/envs/RAG/lib/python3.11/site-packages (from nltk<4.0.0,>=3.8.1->llama-index-core<0.11.0,>=0.10.0->llama-index-postprocessor-colbert-rerank) (8.1.7)\n",
      "Requirement already satisfied: joblib in /Users/abhi/miniconda3/envs/RAG/lib/python3.11/site-packages (from nltk<4.0.0,>=3.8.1->llama-index-core<0.11.0,>=0.10.0->llama-index-postprocessor-colbert-rerank) (1.3.2)\n",
      "Requirement already satisfied: distro<2,>=1.7.0 in /Users/abhi/miniconda3/envs/RAG/lib/python3.11/site-packages (from openai>=1.1.0->llama-index-core<0.11.0,>=0.10.0->llama-index-postprocessor-colbert-rerank) (1.9.0)\n",
      "Requirement already satisfied: charset-normalizer<4,>=2 in /Users/abhi/miniconda3/envs/RAG/lib/python3.11/site-packages (from requests>=2.31.0->llama-index-core<0.11.0,>=0.10.0->llama-index-postprocessor-colbert-rerank) (3.3.2)\n",
      "Requirement already satisfied: urllib3<3,>=1.21.1 in /Users/abhi/miniconda3/envs/RAG/lib/python3.11/site-packages (from requests>=2.31.0->llama-index-core<0.11.0,>=0.10.0->llama-index-postprocessor-colbert-rerank) (2.2.1)\n",
      "Requirement already satisfied: greenlet!=0.4.17 in /Users/abhi/miniconda3/envs/RAG/lib/python3.11/site-packages (from SQLAlchemy>=1.4.49->SQLAlchemy[asyncio]>=1.4.49->llama-index-core<0.11.0,>=0.10.0->llama-index-postprocessor-colbert-rerank) (3.0.3)\n",
      "Requirement already satisfied: mypy-extensions>=0.3.0 in /Users/abhi/miniconda3/envs/RAG/lib/python3.11/site-packages (from typing-inspect>=0.8.0->llama-index-core<0.11.0,>=0.10.0->llama-index-postprocessor-colbert-rerank) (1.0.0)\n",
      "Requirement already satisfied: marshmallow<4.0.0,>=3.18.0 in /Users/abhi/miniconda3/envs/RAG/lib/python3.11/site-packages (from dataclasses-json->llama-index-core<0.11.0,>=0.10.0->llama-index-postprocessor-colbert-rerank) (3.21.1)\n",
      "Requirement already satisfied: MarkupSafe>=2.0 in /Users/abhi/miniconda3/envs/RAG/lib/python3.11/site-packages (from jinja2->torch<3.0.0,>=2.2.0->llama-index-postprocessor-colbert-rerank) (2.1.5)\n",
      "Requirement already satisfied: python-dateutil>=2.8.2 in /Users/abhi/miniconda3/envs/RAG/lib/python3.11/site-packages (from pandas->llama-index-core<0.11.0,>=0.10.0->llama-index-postprocessor-colbert-rerank) (2.9.0)\n",
      "Requirement already satisfied: pytz>=2020.1 in /Users/abhi/miniconda3/envs/RAG/lib/python3.11/site-packages (from pandas->llama-index-core<0.11.0,>=0.10.0->llama-index-postprocessor-colbert-rerank) (2024.1)\n",
      "Requirement already satisfied: tzdata>=2022.7 in /Users/abhi/miniconda3/envs/RAG/lib/python3.11/site-packages (from pandas->llama-index-core<0.11.0,>=0.10.0->llama-index-postprocessor-colbert-rerank) (2024.1)\n",
      "Requirement already satisfied: mpmath>=0.19 in /Users/abhi/miniconda3/envs/RAG/lib/python3.11/site-packages (from sympy->torch<3.0.0,>=2.2.0->llama-index-postprocessor-colbert-rerank) (1.3.0)\n",
      "Requirement already satisfied: annotated-types>=0.4.0 in /Users/abhi/miniconda3/envs/RAG/lib/python3.11/site-packages (from pydantic>=1.10->llamaindex-py-client<0.2.0,>=0.1.13->llama-index-core<0.11.0,>=0.10.0->llama-index-postprocessor-colbert-rerank) (0.6.0)\n",
      "Requirement already satisfied: pydantic-core==2.16.3 in /Users/abhi/miniconda3/envs/RAG/lib/python3.11/site-packages (from pydantic>=1.10->llamaindex-py-client<0.2.0,>=0.1.13->llama-index-core<0.11.0,>=0.10.0->llama-index-postprocessor-colbert-rerank) (2.16.3)\n",
      "Requirement already satisfied: six>=1.5 in /Users/abhi/miniconda3/envs/RAG/lib/python3.11/site-packages (from python-dateutil>=2.8.2->pandas->llama-index-core<0.11.0,>=0.10.0->llama-index-postprocessor-colbert-rerank) (1.16.0)\n",
      "Downloading llama_index_postprocessor_colbert_rerank-0.1.1-py3-none-any.whl (3.4 kB)\n",
      "Installing collected packages: llama-index-postprocessor-colbert-rerank\n",
      "Successfully installed llama-index-postprocessor-colbert-rerank-0.1.1\n"
     ]
    }
   ],
   "source": [
    "!pip install llama-index\n",
    "!pip install llama-index-core\n",
    "!pip install --quiet transformers torch\n",
    "!pip install llama-index-embeddings-openai\n",
    "!pip install llama-index-llms-openai\n",
    "!pip install llama-index-postprocessor-colbert-rerank"
   ]
  },
  {
   "cell_type": "code",
   "execution_count": 2,
   "metadata": {},
   "outputs": [],
   "source": [
    "from llama_index.core import (\n",
    "    VectorStoreIndex,\n",
    "    SimpleDirectoryReader,\n",
    ")"
   ]
  },
  {
   "cell_type": "code",
   "execution_count": 4,
   "metadata": {},
   "outputs": [
    {
     "name": "stdout",
     "output_type": "stream",
     "text": [
      "--2024-03-27 10:22:35--  https://github.com/run-llama/llama_index/raw/main/docs/docs/examples/data/paul_graham/paul_graham_essay.txt\n",
      "Resolving github.com (github.com)... 140.82.121.4\n",
      "Connecting to github.com (github.com)|140.82.121.4|:443... connected.\n",
      "HTTP request sent, awaiting response... 302 Found\n",
      "Location: https://raw.githubusercontent.com/run-llama/llama_index/main/docs/docs/examples/data/paul_graham/paul_graham_essay.txt [following]\n",
      "--2024-03-27 10:22:36--  https://raw.githubusercontent.com/run-llama/llama_index/main/docs/docs/examples/data/paul_graham/paul_graham_essay.txt\n",
      "Resolving raw.githubusercontent.com (raw.githubusercontent.com)... 185.199.111.133, 185.199.109.133, 185.199.110.133, ...\n",
      "Connecting to raw.githubusercontent.com (raw.githubusercontent.com)|185.199.111.133|:443... connected.\n",
      "HTTP request sent, awaiting response... 200 OK\n",
      "Length: 75042 (73K) [text/plain]\n",
      "Saving to: ‘data/paul_graham/paul_graham_essay.txt’\n",
      "\n",
      "data/paul_graham/pa 100%[===================>]  73.28K  --.-KB/s    in 0.03s   \n",
      "\n",
      "2024-03-27 10:22:36 (2.74 MB/s) - ‘data/paul_graham/paul_graham_essay.txt’ saved [75042/75042]\n",
      "\n"
     ]
    }
   ],
   "source": [
    "!mkdir -p 'data/paul_graham/'\n",
    "!wget 'https://github.com/run-llama/llama_index/raw/main/docs/docs/examples/data/paul_graham/paul_graham_essay.txt' -O 'data/paul_graham/paul_graham_essay.txt'"
   ]
  },
  {
   "cell_type": "code",
   "execution_count": 6,
   "metadata": {},
   "outputs": [
    {
     "name": "stdout",
     "output_type": "stream",
     "text": [
      "--2024-03-27 10:29:32--  https://raw.githubusercontent.com/run-llama/llama_index/main/docs/docs/examples/data/paul_graham/paul_graham_essay.txt\n",
      "Resolving raw.githubusercontent.com (raw.githubusercontent.com)... 185.199.111.133, 185.199.109.133, 185.199.110.133, ...\n",
      "Connecting to raw.githubusercontent.com (raw.githubusercontent.com)|185.199.111.133|:443... connected.\n",
      "HTTP request sent, awaiting response... 200 OK\n",
      "Length: 75042 (73K) [text/plain]\n",
      "Saving to: ‘data/paul_graham/paul_graham_essay.txt’\n",
      "\n",
      "data/paul_graham/pa 100%[===================>]  73.28K  --.-KB/s    in 0.03s   \n",
      "\n",
      "2024-03-27 10:29:32 (2.76 MB/s) - ‘data/paul_graham/paul_graham_essay.txt’ saved [75042/75042]\n",
      "\n"
     ]
    }
   ],
   "source": [
    "!wget 'https://raw.githubusercontent.com/run-llama/llama_index/main/docs/docs/examples/data/paul_graham/paul_graham_essay.txt' -O 'data/paul_graham/paul_graham_essay.txt'"
   ]
  },
  {
   "cell_type": "code",
   "execution_count": 8,
   "metadata": {},
   "outputs": [
    {
     "data": {
      "text/plain": [
       "True"
      ]
     },
     "execution_count": 8,
     "metadata": {},
     "output_type": "execute_result"
    }
   ],
   "source": [
    "# import python dotenv\n",
    "from dotenv import load_dotenv\n",
    "import os\n",
    "\n",
    "# load the .env file\n",
    "load_dotenv()"
   ]
  },
  {
   "cell_type": "code",
   "execution_count": 11,
   "metadata": {},
   "outputs": [],
   "source": [
    "os.environ[\"OPENAI_API_KEY\"] = os.getenv(\"OPENAI_API_KEY\")"
   ]
  },
  {
   "cell_type": "code",
   "execution_count": 12,
   "metadata": {},
   "outputs": [],
   "source": [
    "# load documents\n",
    "documents = SimpleDirectoryReader(\"./data/paul_graham/\").load_data()\n",
    "\n",
    "# build index\n",
    "index = VectorStoreIndex.from_documents(documents=documents)"
   ]
  },
  {
   "cell_type": "code",
   "execution_count": 13,
   "metadata": {},
   "outputs": [
    {
     "data": {
      "application/vnd.jupyter.widget-view+json": {
       "model_id": "be582602a81a48f2956e2f230a71cd0a",
       "version_major": 2,
       "version_minor": 0
      },
      "text/plain": [
       "tokenizer_config.json:   0%|          | 0.00/405 [00:00<?, ?B/s]"
      ]
     },
     "metadata": {},
     "output_type": "display_data"
    },
    {
     "data": {
      "application/vnd.jupyter.widget-view+json": {
       "model_id": "c0fe0887275c444baeb31b3d287bcd03",
       "version_major": 2,
       "version_minor": 0
      },
      "text/plain": [
       "vocab.txt:   0%|          | 0.00/232k [00:00<?, ?B/s]"
      ]
     },
     "metadata": {},
     "output_type": "display_data"
    },
    {
     "data": {
      "application/vnd.jupyter.widget-view+json": {
       "model_id": "0a68b52b8e30464b893c5a21e1643200",
       "version_major": 2,
       "version_minor": 0
      },
      "text/plain": [
       "tokenizer.json:   0%|          | 0.00/466k [00:00<?, ?B/s]"
      ]
     },
     "metadata": {},
     "output_type": "display_data"
    },
    {
     "data": {
      "application/vnd.jupyter.widget-view+json": {
       "model_id": "14f58e000c944e53bd8372bca87f87f7",
       "version_major": 2,
       "version_minor": 0
      },
      "text/plain": [
       "special_tokens_map.json:   0%|          | 0.00/112 [00:00<?, ?B/s]"
      ]
     },
     "metadata": {},
     "output_type": "display_data"
    },
    {
     "data": {
      "application/vnd.jupyter.widget-view+json": {
       "model_id": "50155b82de8448898d4d920e5e930f2e",
       "version_major": 2,
       "version_minor": 0
      },
      "text/plain": [
       "config.json:   0%|          | 0.00/743 [00:00<?, ?B/s]"
      ]
     },
     "metadata": {},
     "output_type": "display_data"
    },
    {
     "data": {
      "application/vnd.jupyter.widget-view+json": {
       "model_id": "d105acdaa2e24679bf592400889dd17c",
       "version_major": 2,
       "version_minor": 0
      },
      "text/plain": [
       "model.safetensors:   0%|          | 0.00/438M [00:00<?, ?B/s]"
      ]
     },
     "metadata": {},
     "output_type": "display_data"
    }
   ],
   "source": [
    "from llama_index.postprocessor.colbert_rerank import ColbertRerank\n",
    "\n",
    "colbert_reranker = ColbertRerank(\n",
    "    top_n=5,\n",
    "    model=\"colbert-ir/colbertv2.0\",\n",
    "    tokenizer=\"colbert-ir/colbertv2.0\",\n",
    "    keep_retrieval_score=True,\n",
    ")\n",
    "\n",
    "query_engine = index.as_query_engine(\n",
    "    similarity_top_k=10,\n",
    "    node_postprocessors=[colbert_reranker],\n",
    ")\n",
    "response = query_engine.query(\n",
    "    \"What did Sam Altman do in this essay?\",\n",
    ")"
   ]
  },
  {
   "cell_type": "code",
   "execution_count": 14,
   "metadata": {},
   "outputs": [
    {
     "name": "stdout",
     "output_type": "stream",
     "text": [
      "48fc0edd-23e6-4a21-96e8-abccc1e7d6a2\n",
      "This seemed strange advice, because YC was doing great. But if there was one thing rarer than Rtm offering advice, it wa\n",
      "reranking score:  0.6401657462120056\n",
      "retrieval score:  0.8212027754236421\n",
      "**********\n",
      "71a97d0a-0025-4ee2-b7ee-c65669ff7032\n",
      "Why not organize a summer program where they'd start startups instead? We wouldn't feel guilty for being in a sense fake\n",
      "reranking score:  0.6042895913124084\n",
      "retrieval score:  0.8078020096082776\n",
      "**********\n",
      "e6baf3eb-d0db-46e0-9793-6d0df17ab593\n",
      "What I Worked On\n",
      "\n",
      "February 2021\n",
      "\n",
      "Before college the two main things I worked on, outside of school, were writing and pro\n",
      "reranking score:  0.5696992874145508\n",
      "retrieval score:  0.7920438317553905\n",
      "**********\n",
      "0880a472-5095-4404-901c-e2d2f57f9c08\n",
      "I knew that online essays would be a marginal medium at first. Socially they'd seem more like rants posted by nutjobs on\n",
      "reranking score:  0.5589112639427185\n",
      "retrieval score:  0.8091647704218679\n",
      "**********\n",
      "e30b22aa-8175-4d76-bb63-eafece07fccd\n",
      "But after Heroku got bought we had enough money to go back to being self-funded.\n",
      "\n",
      "[15] I've never liked the term \"deal f\n",
      "reranking score:  0.5479263663291931\n",
      "retrieval score:  0.7974939974976666\n",
      "**********\n"
     ]
    }
   ],
   "source": [
    "for node in response.source_nodes:\n",
    "    print(node.id_)\n",
    "    print(node.node.get_content()[:120])\n",
    "    print(\"reranking score: \", node.score)\n",
    "    print(\"retrieval score: \", node.node.metadata[\"retrieval_score\"])\n",
    "    print(\"**********\")"
   ]
  },
  {
   "cell_type": "code",
   "execution_count": 15,
   "metadata": {},
   "outputs": [
    {
     "name": "stdout",
     "output_type": "stream",
     "text": [
      "Sam Altman was asked to become the president of Y Combinator (YC) after Paul Graham decided to step down from running YC. Initially, Sam Altman was hesitant as he wanted to start a startup to make nuclear reactors. However, after persistent efforts from Paul Graham, Sam Altman finally agreed to take over as the president of YC starting with the winter 2014 batch. Paul Graham gradually handed over the responsibilities of running YC to Sam Altman so he could learn the job, while Paul Graham focused on personal matters, such as his mother's illness.\n"
     ]
    }
   ],
   "source": [
    "print(response)"
   ]
  },
  {
   "cell_type": "code",
   "execution_count": 16,
   "metadata": {},
   "outputs": [],
   "source": [
    "response = query_engine.query(\n",
    "    \"Which schools did Paul attend?\",\n",
    ")"
   ]
  },
  {
   "cell_type": "code",
   "execution_count": 17,
   "metadata": {},
   "outputs": [
    {
     "name": "stdout",
     "output_type": "stream",
     "text": [
      "2e0414a2-a712-41ce-9e95-7edfff661588\n",
      "Grad students could take classes in any department, and my advisor, Tom Cheatham, was very easy going. If he even knew a\n",
      "reranking score:  0.5909818410873413\n",
      "retrieval score:  0.8060823726519702\n",
      "**********\n",
      "b06c49ce-4213-40e8-b05f-04f439cc554a\n",
      "The foundation had merely been intro stuff, and the Accademia had been a (very civilized) joke. Now I was going to see w\n",
      "reranking score:  0.5821996927261353\n",
      "retrieval score:  0.8020923573546055\n",
      "**********\n",
      "f971d282-8d56-43f6-a9cc-fa19d871fa96\n",
      "I've never known a teacher more beloved by her students. Large numbers of former students kept in touch with her, includ\n",
      "reranking score:  0.5508488416671753\n",
      "retrieval score:  0.7760295568936797\n",
      "**********\n",
      "e6baf3eb-d0db-46e0-9793-6d0df17ab593\n",
      "What I Worked On\n",
      "\n",
      "February 2021\n",
      "\n",
      "Before college the two main things I worked on, outside of school, were writing and pro\n",
      "reranking score:  0.5351229310035706\n",
      "retrieval score:  0.781226579777117\n",
      "**********\n",
      "43f3d79b-95fc-4340-96a9-66090666db2a\n",
      "Here I was, yet again about to attend some august institution in the hopes of learning about some prestigious subject, a\n",
      "reranking score:  0.5243706703186035\n",
      "retrieval score:  0.7842951717066754\n",
      "**********\n"
     ]
    }
   ],
   "source": [
    "for node in response.source_nodes:\n",
    "    print(node.id_)\n",
    "    print(node.node.get_content()[:120])\n",
    "    print(\"reranking score: \", node.score)\n",
    "    print(\"retrieval score: \", node.node.metadata[\"retrieval_score\"])\n",
    "    print(\"**********\")"
   ]
  },
  {
   "cell_type": "code",
   "execution_count": 18,
   "metadata": {},
   "outputs": [
    {
     "name": "stdout",
     "output_type": "stream",
     "text": [
      "Paul attended RISD in the US and the Accademia di Belli Arti in Florence.\n"
     ]
    }
   ],
   "source": [
    "print(response)"
   ]
  },
  {
   "cell_type": "code",
   "execution_count": null,
   "metadata": {},
   "outputs": [],
   "source": []
  }
 ],
 "metadata": {
  "kernelspec": {
   "display_name": "RAG",
   "language": "python",
   "name": "python3"
  },
  "language_info": {
   "codemirror_mode": {
    "name": "ipython",
    "version": 3
   },
   "file_extension": ".py",
   "mimetype": "text/x-python",
   "name": "python",
   "nbconvert_exporter": "python",
   "pygments_lexer": "ipython3",
   "version": "3.11.8"
  }
 },
 "nbformat": 4,
 "nbformat_minor": 2
}
